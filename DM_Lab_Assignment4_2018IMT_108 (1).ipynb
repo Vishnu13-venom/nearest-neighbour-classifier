{
  "cells": [
    {
      "cell_type": "code",
      "execution_count": null,
      "metadata": {
        "id": "hdtptdG24_TQ"
      },
      "outputs": [],
      "source": [
        "#Importing necessary libraries\n",
        "import math\n",
        "from pprint import pprint\n",
        "from matplotlib import pyplot as plt\n",
        "import pandas as pd\n",
        "import numpy as np\n",
        "import warnings\n",
        "warnings.filterwarnings('ignore')"
      ]
    },
    {
      "cell_type": "code",
      "execution_count": null,
      "metadata": {
        "id": "XWgNf6H-4_TR",
        "outputId": "58e08234-6376-4be2-8405-bb1753a3b06c"
      },
      "outputs": [
        {
          "data": {
            "text/html": [
              "<div>\n",
              "<style scoped>\n",
              "    .dataframe tbody tr th:only-of-type {\n",
              "        vertical-align: middle;\n",
              "    }\n",
              "\n",
              "    .dataframe tbody tr th {\n",
              "        vertical-align: top;\n",
              "    }\n",
              "\n",
              "    .dataframe thead th {\n",
              "        text-align: right;\n",
              "    }\n",
              "</style>\n",
              "<table border=\"1\" class=\"dataframe\">\n",
              "  <thead>\n",
              "    <tr style=\"text-align: right;\">\n",
              "      <th></th>\n",
              "      <th>sepal_len</th>\n",
              "      <th>sepal_width</th>\n",
              "      <th>petal_len</th>\n",
              "      <th>petal_width</th>\n",
              "      <th>class</th>\n",
              "    </tr>\n",
              "  </thead>\n",
              "  <tbody>\n",
              "    <tr>\n",
              "      <th>0</th>\n",
              "      <td>5.1</td>\n",
              "      <td>3.5</td>\n",
              "      <td>1.4</td>\n",
              "      <td>0.2</td>\n",
              "      <td>Iris-setosa</td>\n",
              "    </tr>\n",
              "    <tr>\n",
              "      <th>1</th>\n",
              "      <td>4.9</td>\n",
              "      <td>3.0</td>\n",
              "      <td>1.4</td>\n",
              "      <td>0.2</td>\n",
              "      <td>Iris-setosa</td>\n",
              "    </tr>\n",
              "    <tr>\n",
              "      <th>2</th>\n",
              "      <td>4.7</td>\n",
              "      <td>3.2</td>\n",
              "      <td>1.3</td>\n",
              "      <td>0.2</td>\n",
              "      <td>Iris-setosa</td>\n",
              "    </tr>\n",
              "    <tr>\n",
              "      <th>3</th>\n",
              "      <td>4.6</td>\n",
              "      <td>3.1</td>\n",
              "      <td>1.5</td>\n",
              "      <td>0.2</td>\n",
              "      <td>Iris-setosa</td>\n",
              "    </tr>\n",
              "    <tr>\n",
              "      <th>4</th>\n",
              "      <td>5.0</td>\n",
              "      <td>3.6</td>\n",
              "      <td>1.4</td>\n",
              "      <td>0.2</td>\n",
              "      <td>Iris-setosa</td>\n",
              "    </tr>\n",
              "  </tbody>\n",
              "</table>\n",
              "</div>"
            ],
            "text/plain": [
              "   sepal_len  sepal_width  petal_len  petal_width        class\n",
              "0        5.1          3.5        1.4          0.2  Iris-setosa\n",
              "1        4.9          3.0        1.4          0.2  Iris-setosa\n",
              "2        4.7          3.2        1.3          0.2  Iris-setosa\n",
              "3        4.6          3.1        1.5          0.2  Iris-setosa\n",
              "4        5.0          3.6        1.4          0.2  Iris-setosa"
            ]
          },
          "execution_count": 3,
          "metadata": {},
          "output_type": "execute_result"
        }
      ],
      "source": [
        "#Load the dataset\n",
        "file_columns = ['sepal_len','sepal_width','petal_len','petal_width','class']\n",
        "data = pd.read_csv('https://archive.ics.uci.edu/ml/machine-learning-databases/iris/iris.data',header=None, names=file_columns)\n",
        "data.head()"
      ]
    },
    {
      "cell_type": "code",
      "execution_count": null,
      "metadata": {
        "id": "wfTGxbVN4_TS",
        "outputId": "23a06b74-b1ac-4131-8407-d1fb8e511908"
      },
      "outputs": [
        {
          "data": {
            "text/html": [
              "<div>\n",
              "<style scoped>\n",
              "    .dataframe tbody tr th:only-of-type {\n",
              "        vertical-align: middle;\n",
              "    }\n",
              "\n",
              "    .dataframe tbody tr th {\n",
              "        vertical-align: top;\n",
              "    }\n",
              "\n",
              "    .dataframe thead th {\n",
              "        text-align: right;\n",
              "    }\n",
              "</style>\n",
              "<table border=\"1\" class=\"dataframe\">\n",
              "  <thead>\n",
              "    <tr style=\"text-align: right;\">\n",
              "      <th></th>\n",
              "      <th>sepal_len</th>\n",
              "      <th>sepal_width</th>\n",
              "      <th>petal_len</th>\n",
              "      <th>petal_width</th>\n",
              "      <th>class</th>\n",
              "      <th>seq</th>\n",
              "    </tr>\n",
              "  </thead>\n",
              "  <tbody>\n",
              "    <tr>\n",
              "      <th>0</th>\n",
              "      <td>7.7</td>\n",
              "      <td>3.8</td>\n",
              "      <td>6.7</td>\n",
              "      <td>2.2</td>\n",
              "      <td>Iris-virginica</td>\n",
              "      <td>0</td>\n",
              "    </tr>\n",
              "    <tr>\n",
              "      <th>1</th>\n",
              "      <td>5.5</td>\n",
              "      <td>2.3</td>\n",
              "      <td>4.0</td>\n",
              "      <td>1.3</td>\n",
              "      <td>Iris-versicolor</td>\n",
              "      <td>1</td>\n",
              "    </tr>\n",
              "    <tr>\n",
              "      <th>2</th>\n",
              "      <td>5.4</td>\n",
              "      <td>3.0</td>\n",
              "      <td>4.5</td>\n",
              "      <td>1.5</td>\n",
              "      <td>Iris-versicolor</td>\n",
              "      <td>2</td>\n",
              "    </tr>\n",
              "    <tr>\n",
              "      <th>3</th>\n",
              "      <td>5.6</td>\n",
              "      <td>2.5</td>\n",
              "      <td>3.9</td>\n",
              "      <td>1.1</td>\n",
              "      <td>Iris-versicolor</td>\n",
              "      <td>3</td>\n",
              "    </tr>\n",
              "    <tr>\n",
              "      <th>4</th>\n",
              "      <td>6.5</td>\n",
              "      <td>3.2</td>\n",
              "      <td>5.1</td>\n",
              "      <td>2.0</td>\n",
              "      <td>Iris-virginica</td>\n",
              "      <td>4</td>\n",
              "    </tr>\n",
              "  </tbody>\n",
              "</table>\n",
              "</div>"
            ],
            "text/plain": [
              "   sepal_len  sepal_width  petal_len  petal_width            class  seq\n",
              "0        7.7          3.8        6.7          2.2   Iris-virginica    0\n",
              "1        5.5          2.3        4.0          1.3  Iris-versicolor    1\n",
              "2        5.4          3.0        4.5          1.5  Iris-versicolor    2\n",
              "3        5.6          2.5        3.9          1.1  Iris-versicolor    3\n",
              "4        6.5          3.2        5.1          2.0   Iris-virginica    4"
            ]
          },
          "execution_count": 4,
          "metadata": {},
          "output_type": "execute_result"
        }
      ],
      "source": [
        "#Shuffle the data\n",
        "data = data.sample(frac=1).reset_index(drop=True)\n",
        "data['seq'] = data.index\n",
        "data.head()"
      ]
    },
    {
      "cell_type": "code",
      "execution_count": null,
      "metadata": {
        "id": "Q8fWvYBI4_TS"
      },
      "outputs": [],
      "source": [
        "#split dataset into train and test data\n",
        "dev_size = int(data.shape[0]*0.70)\n",
        "test_size = int(data.shape[0]*0.30)\n",
        "\n",
        "# Take first 70% of the data as dev set\n",
        "dev = data[:dev_size]\n",
        "\n",
        "# Take last 30% of the data as test set\n",
        "test = data[test_size:]"
      ]
    },
    {
      "cell_type": "code",
      "execution_count": null,
      "metadata": {
        "id": "boegPmsr4_TT"
      },
      "outputs": [],
      "source": [
        "# Euclidean distance method\n",
        "def get_euclidean(row1, row2):\n",
        "    return math.sqrt(sum([(x1-x2)**2 for x1,x2 in zip(row1,row2)]))"
      ]
    },
    {
      "cell_type": "code",
      "execution_count": null,
      "metadata": {
        "id": "NL7Rtj9x4_TT"
      },
      "outputs": [],
      "source": [
        "#calculate distance between every point in the dataset and every other point is calculated \n",
        "#by using euclidean distance method\n",
        "dev2 = dev.values\n",
        "eud = []\n",
        "l = len(dev2)\n",
        "for i in range(l):\n",
        "    eu_distance = []\n",
        "    for j in range(l):\n",
        "        if(i!=j):\n",
        "            index = dev2[j][5]\n",
        "            ed = get_euclidean(dev2[i][:-2], dev2[j][:-2])\n",
        "            \n",
        "            eu_distance.append((ed, index))\n",
        "    eu_distance.sort(key= lambda x: x[0])\n",
        "    eu_distance = [i[1] for i in eu_distance]\n",
        "    eud.append(eu_distance)\n",
        "dev['euclidean'] = eud"
      ]
    },
    {
      "cell_type": "code",
      "execution_count": null,
      "metadata": {
        "id": "DgXT7dX_4_TU"
      },
      "outputs": [],
      "source": [
        "#k closest neighbors are selected for every point in the dev set.\n",
        "def get_nearest(row, distance_measure,k):\n",
        "    return row[distance_measure][:k]"
      ]
    },
    {
      "cell_type": "code",
      "execution_count": null,
      "metadata": {
        "id": "YCN7ahgJ4_TV"
      },
      "outputs": [],
      "source": [
        "#Among the K nearest neighbors, the dominant class is elected and \n",
        "#the data point is classified to belong to this class.\n",
        "def get_dominant_class(df, neighbors):\n",
        "    classes = df[df['seq'].isin(neighbors)]['class']\n",
        "    return classes.value_counts().index[0]"
      ]
    },
    {
      "cell_type": "code",
      "execution_count": null,
      "metadata": {
        "id": "XqCMQkbc4_TV"
      },
      "outputs": [],
      "source": [
        "#Optimizing K\n",
        "k = 1\n",
        "hyper_params = []\n",
        "acc = {1: {}, 3:{}, 5:{}, 7:{}}\n",
        "\n",
        "while k <= 7:\n",
        "    dev['eud_{}'.format(k)] = dev.apply(lambda x: get_nearest(x, 'euclidean',k), axis=1)\n",
        "    dev['eud_{}_class'.format(k)] = dev['eud_{}'.format(k)].apply(lambda row: get_dominant_class(dev, row))\n",
        "    hyper_params.append('eud_{}_class'.format(k))\n",
        "    acc[k]['eud'] = dev[dev['class']==dev['eud_{}_class'.format(k)]].shape[0]/dev.shape[0]\n",
        "    k+=2"
      ]
    },
    {
      "cell_type": "code",
      "execution_count": null,
      "metadata": {
        "id": "rsGohN3A4_TW",
        "outputId": "8539a9db-27f0-4f78-8c39-67213b44cfc7"
      },
      "outputs": [
        {
          "data": {
            "text/html": [
              "<div>\n",
              "<style scoped>\n",
              "    .dataframe tbody tr th:only-of-type {\n",
              "        vertical-align: middle;\n",
              "    }\n",
              "\n",
              "    .dataframe tbody tr th {\n",
              "        vertical-align: top;\n",
              "    }\n",
              "\n",
              "    .dataframe thead th {\n",
              "        text-align: right;\n",
              "    }\n",
              "</style>\n",
              "<table border=\"1\" class=\"dataframe\">\n",
              "  <thead>\n",
              "    <tr style=\"text-align: right;\">\n",
              "      <th></th>\n",
              "      <th>class</th>\n",
              "      <th>eud_1_class</th>\n",
              "      <th>eud_3_class</th>\n",
              "      <th>eud_5_class</th>\n",
              "      <th>eud_7_class</th>\n",
              "    </tr>\n",
              "  </thead>\n",
              "  <tbody>\n",
              "    <tr>\n",
              "      <th>0</th>\n",
              "      <td>Iris-virginica</td>\n",
              "      <td>Iris-virginica</td>\n",
              "      <td>Iris-virginica</td>\n",
              "      <td>Iris-virginica</td>\n",
              "      <td>Iris-virginica</td>\n",
              "    </tr>\n",
              "    <tr>\n",
              "      <th>1</th>\n",
              "      <td>Iris-versicolor</td>\n",
              "      <td>Iris-versicolor</td>\n",
              "      <td>Iris-versicolor</td>\n",
              "      <td>Iris-versicolor</td>\n",
              "      <td>Iris-versicolor</td>\n",
              "    </tr>\n",
              "    <tr>\n",
              "      <th>2</th>\n",
              "      <td>Iris-versicolor</td>\n",
              "      <td>Iris-versicolor</td>\n",
              "      <td>Iris-versicolor</td>\n",
              "      <td>Iris-versicolor</td>\n",
              "      <td>Iris-versicolor</td>\n",
              "    </tr>\n",
              "    <tr>\n",
              "      <th>3</th>\n",
              "      <td>Iris-versicolor</td>\n",
              "      <td>Iris-versicolor</td>\n",
              "      <td>Iris-versicolor</td>\n",
              "      <td>Iris-versicolor</td>\n",
              "      <td>Iris-versicolor</td>\n",
              "    </tr>\n",
              "    <tr>\n",
              "      <th>4</th>\n",
              "      <td>Iris-virginica</td>\n",
              "      <td>Iris-virginica</td>\n",
              "      <td>Iris-virginica</td>\n",
              "      <td>Iris-virginica</td>\n",
              "      <td>Iris-virginica</td>\n",
              "    </tr>\n",
              "  </tbody>\n",
              "</table>\n",
              "</div>"
            ],
            "text/plain": [
              "             class      eud_1_class      eud_3_class      eud_5_class  \\\n",
              "0   Iris-virginica   Iris-virginica   Iris-virginica   Iris-virginica   \n",
              "1  Iris-versicolor  Iris-versicolor  Iris-versicolor  Iris-versicolor   \n",
              "2  Iris-versicolor  Iris-versicolor  Iris-versicolor  Iris-versicolor   \n",
              "3  Iris-versicolor  Iris-versicolor  Iris-versicolor  Iris-versicolor   \n",
              "4   Iris-virginica   Iris-virginica   Iris-virginica   Iris-virginica   \n",
              "\n",
              "       eud_7_class  \n",
              "0   Iris-virginica  \n",
              "1  Iris-versicolor  \n",
              "2  Iris-versicolor  \n",
              "3  Iris-versicolor  \n",
              "4   Iris-virginica  "
            ]
          },
          "execution_count": 12,
          "metadata": {},
          "output_type": "execute_result"
        }
      ],
      "source": [
        "#Observe various hyper parameters\n",
        "cols = ['class'] + hyper_params\n",
        "dev[cols].head()"
      ]
    },
    {
      "cell_type": "code",
      "execution_count": null,
      "metadata": {
        "id": "DDBowk4Q4_TW",
        "outputId": "02e12b2e-2c0e-498f-ea4b-4aff6d86e016"
      },
      "outputs": [
        {
          "name": "stdout",
          "output_type": "stream",
          "text": [
            "{1: {'eud': 0.9523809523809523},\n",
            " 3: {'eud': 0.9428571428571428},\n",
            " 5: {'eud': 0.9428571428571428},\n",
            " 7: {'eud': 0.9428571428571428}}\n"
          ]
        }
      ],
      "source": [
        "pprint(acc)"
      ]
    },
    {
      "cell_type": "code",
      "execution_count": null,
      "metadata": {
        "id": "nGe9oJjV4_TW"
      },
      "outputs": [],
      "source": [
        "#Calculate euclidean distance between every point in the test dataset \n",
        "#with every point in the dev set and pick 3 nearest neighbors\n",
        "test['seq'] = test.index\n",
        "test2 = test.values\n",
        "test_eud = []\n",
        "l = len(test)\n",
        "for i in range(l):\n",
        "    test_eu_distance = []\n",
        "    for j in range(len(dev)):\n",
        "        index = dev2[j][5]\n",
        "        ed = get_euclidean(test2[i][:-2], dev2[j][:-2])\n",
        "        test_eu_distance.append((ed, index))\n",
        "        \n",
        "    test_eu_distance.sort(key= lambda x: x[0])\n",
        "    test_eu_distance = [i[1] for i in test_eu_distance]\n",
        "    test_eud.append(test_eu_distance)\n",
        "    \n",
        "test['euclidean'] = test_eud"
      ]
    },
    {
      "cell_type": "code",
      "execution_count": null,
      "metadata": {
        "id": "8JgEVF1h4_TX",
        "outputId": "353df976-5f31-4c68-876a-d3b33bda366c"
      },
      "outputs": [
        {
          "data": {
            "text/html": [
              "<div>\n",
              "<style scoped>\n",
              "    .dataframe tbody tr th:only-of-type {\n",
              "        vertical-align: middle;\n",
              "    }\n",
              "\n",
              "    .dataframe tbody tr th {\n",
              "        vertical-align: top;\n",
              "    }\n",
              "\n",
              "    .dataframe thead th {\n",
              "        text-align: right;\n",
              "    }\n",
              "</style>\n",
              "<table border=\"1\" class=\"dataframe\">\n",
              "  <thead>\n",
              "    <tr style=\"text-align: right;\">\n",
              "      <th></th>\n",
              "      <th>sepal_len</th>\n",
              "      <th>sepal_width</th>\n",
              "      <th>petal_len</th>\n",
              "      <th>petal_width</th>\n",
              "      <th>class</th>\n",
              "      <th>eu</th>\n",
              "    </tr>\n",
              "  </thead>\n",
              "  <tbody>\n",
              "    <tr>\n",
              "      <th>45</th>\n",
              "      <td>5.7</td>\n",
              "      <td>2.9</td>\n",
              "      <td>4.2</td>\n",
              "      <td>1.3</td>\n",
              "      <td>Iris-versicolor</td>\n",
              "      <td>[45, 48, 6]</td>\n",
              "    </tr>\n",
              "    <tr>\n",
              "      <th>46</th>\n",
              "      <td>6.9</td>\n",
              "      <td>3.1</td>\n",
              "      <td>4.9</td>\n",
              "      <td>1.5</td>\n",
              "      <td>Iris-versicolor</td>\n",
              "      <td>[46, 32, 86]</td>\n",
              "    </tr>\n",
              "    <tr>\n",
              "      <th>47</th>\n",
              "      <td>4.7</td>\n",
              "      <td>3.2</td>\n",
              "      <td>1.6</td>\n",
              "      <td>0.2</td>\n",
              "      <td>Iris-setosa</td>\n",
              "      <td>[47, 68, 57]</td>\n",
              "    </tr>\n",
              "    <tr>\n",
              "      <th>48</th>\n",
              "      <td>5.7</td>\n",
              "      <td>2.8</td>\n",
              "      <td>4.1</td>\n",
              "      <td>1.3</td>\n",
              "      <td>Iris-versicolor</td>\n",
              "      <td>[48, 45, 6]</td>\n",
              "    </tr>\n",
              "    <tr>\n",
              "      <th>49</th>\n",
              "      <td>6.8</td>\n",
              "      <td>3.0</td>\n",
              "      <td>5.5</td>\n",
              "      <td>2.1</td>\n",
              "      <td>Iris-virginica</td>\n",
              "      <td>[49, 36, 63]</td>\n",
              "    </tr>\n",
              "  </tbody>\n",
              "</table>\n",
              "</div>"
            ],
            "text/plain": [
              "    sepal_len  sepal_width  petal_len  petal_width            class  \\\n",
              "45        5.7          2.9        4.2          1.3  Iris-versicolor   \n",
              "46        6.9          3.1        4.9          1.5  Iris-versicolor   \n",
              "47        4.7          3.2        1.6          0.2      Iris-setosa   \n",
              "48        5.7          2.8        4.1          1.3  Iris-versicolor   \n",
              "49        6.8          3.0        5.5          2.1   Iris-virginica   \n",
              "\n",
              "              eu  \n",
              "45   [45, 48, 6]  \n",
              "46  [46, 32, 86]  \n",
              "47  [47, 68, 57]  \n",
              "48   [48, 45, 6]  \n",
              "49  [49, 36, 63]  "
            ]
          },
          "execution_count": 15,
          "metadata": {},
          "output_type": "execute_result"
        }
      ],
      "source": [
        "#Since we obtained 3 as optimal value for the hyperparameter k, \n",
        "#we find 3 nearest neighbors between every point in the test set\n",
        "# and every point in the dev set using Euclidean Distance\n",
        "test['eu'] = test.apply(lambda x: get_nearest(x, 'euclidean',3), axis=1)\n",
        "test[file_columns+['eu']].head()"
      ]
    },
    {
      "cell_type": "code",
      "execution_count": null,
      "metadata": {
        "id": "KDdVCeUq4_TX",
        "outputId": "02c04191-633e-4978-8aa3-6214763cdb69"
      },
      "outputs": [
        {
          "data": {
            "text/html": [
              "<div>\n",
              "<style scoped>\n",
              "    .dataframe tbody tr th:only-of-type {\n",
              "        vertical-align: middle;\n",
              "    }\n",
              "\n",
              "    .dataframe tbody tr th {\n",
              "        vertical-align: top;\n",
              "    }\n",
              "\n",
              "    .dataframe thead th {\n",
              "        text-align: right;\n",
              "    }\n",
              "</style>\n",
              "<table border=\"1\" class=\"dataframe\">\n",
              "  <thead>\n",
              "    <tr style=\"text-align: right;\">\n",
              "      <th></th>\n",
              "      <th>sepal_len</th>\n",
              "      <th>sepal_width</th>\n",
              "      <th>petal_len</th>\n",
              "      <th>petal_width</th>\n",
              "      <th>class</th>\n",
              "      <th>eu_class</th>\n",
              "    </tr>\n",
              "  </thead>\n",
              "  <tbody>\n",
              "    <tr>\n",
              "      <th>45</th>\n",
              "      <td>5.7</td>\n",
              "      <td>2.9</td>\n",
              "      <td>4.2</td>\n",
              "      <td>1.3</td>\n",
              "      <td>Iris-versicolor</td>\n",
              "      <td>Iris-versicolor</td>\n",
              "    </tr>\n",
              "    <tr>\n",
              "      <th>46</th>\n",
              "      <td>6.9</td>\n",
              "      <td>3.1</td>\n",
              "      <td>4.9</td>\n",
              "      <td>1.5</td>\n",
              "      <td>Iris-versicolor</td>\n",
              "      <td>Iris-versicolor</td>\n",
              "    </tr>\n",
              "    <tr>\n",
              "      <th>47</th>\n",
              "      <td>4.7</td>\n",
              "      <td>3.2</td>\n",
              "      <td>1.6</td>\n",
              "      <td>0.2</td>\n",
              "      <td>Iris-setosa</td>\n",
              "      <td>Iris-setosa</td>\n",
              "    </tr>\n",
              "    <tr>\n",
              "      <th>48</th>\n",
              "      <td>5.7</td>\n",
              "      <td>2.8</td>\n",
              "      <td>4.1</td>\n",
              "      <td>1.3</td>\n",
              "      <td>Iris-versicolor</td>\n",
              "      <td>Iris-versicolor</td>\n",
              "    </tr>\n",
              "    <tr>\n",
              "      <th>49</th>\n",
              "      <td>6.8</td>\n",
              "      <td>3.0</td>\n",
              "      <td>5.5</td>\n",
              "      <td>2.1</td>\n",
              "      <td>Iris-virginica</td>\n",
              "      <td>Iris-virginica</td>\n",
              "    </tr>\n",
              "  </tbody>\n",
              "</table>\n",
              "</div>"
            ],
            "text/plain": [
              "    sepal_len  sepal_width  petal_len  petal_width            class  \\\n",
              "45        5.7          2.9        4.2          1.3  Iris-versicolor   \n",
              "46        6.9          3.1        4.9          1.5  Iris-versicolor   \n",
              "47        4.7          3.2        1.6          0.2      Iris-setosa   \n",
              "48        5.7          2.8        4.1          1.3  Iris-versicolor   \n",
              "49        6.8          3.0        5.5          2.1   Iris-virginica   \n",
              "\n",
              "           eu_class  \n",
              "45  Iris-versicolor  \n",
              "46  Iris-versicolor  \n",
              "47      Iris-setosa  \n",
              "48  Iris-versicolor  \n",
              "49   Iris-virginica  "
            ]
          },
          "execution_count": 16,
          "metadata": {},
          "output_type": "execute_result"
        }
      ],
      "source": [
        "#Pick the most dominant class among 3 nearest neighbors\n",
        "test['eu_class'] = test['eu'].apply(lambda row: get_dominant_class(dev, row))\n",
        "test[file_columns+['eu_class']].head()"
      ]
    },
    {
      "cell_type": "code",
      "execution_count": null,
      "metadata": {
        "id": "24mELqNS4_TX"
      },
      "outputs": [],
      "source": [
        "y_test=test[\"class\"].tolist()"
      ]
    },
    {
      "cell_type": "code",
      "execution_count": null,
      "metadata": {
        "id": "7BCCI9xU4_TX"
      },
      "outputs": [],
      "source": [
        "y_pred=test[\"eu_class\"].tolist()"
      ]
    },
    {
      "cell_type": "code",
      "execution_count": null,
      "metadata": {
        "id": "JjkJMda34_TY",
        "outputId": "f66ae0ce-c982-4f09-f6dc-8338726e2e36"
      },
      "outputs": [
        {
          "name": "stdout",
          "output_type": "stream",
          "text": [
            "[[40  0  0]\n",
            " [ 0 29  0]\n",
            " [ 0  3 33]]\n",
            "Accuracy: 97.14285714285714\n",
            "\n",
            "\n",
            "\n",
            "                 precision    recall  f1-score   support\n",
            "\n",
            "    Iris-setosa       1.00      1.00      1.00        40\n",
            "Iris-versicolor       0.91      1.00      0.95        29\n",
            " Iris-virginica       1.00      0.92      0.96        36\n",
            "\n",
            "       accuracy                           0.97       105\n",
            "      macro avg       0.97      0.97      0.97       105\n",
            "   weighted avg       0.97      0.97      0.97       105\n",
            "\n"
          ]
        }
      ],
      "source": [
        "# Accuracy, Confusion Matrix, Classification report of KNN classifier\n",
        "from sklearn.metrics import classification_report, confusion_matrix,accuracy_score\n",
        "print(confusion_matrix(y_test, y_pred))\n",
        "print(\"Accuracy:\",accuracy_score(y_test,y_pred)*100)\n",
        "print('\\n\\n')\n",
        "print(classification_report(y_test, y_pred))"
      ]
    },
    {
      "cell_type": "code",
      "execution_count": null,
      "metadata": {
        "id": "BCG_rks14_TY"
      },
      "outputs": [],
      "source": [
        ""
      ]
    }
  ],
  "metadata": {
    "kernelspec": {
      "display_name": "Python 3 (ipykernel)",
      "language": "python",
      "name": "python3"
    },
    "language_info": {
      "codemirror_mode": {
        "name": "ipython",
        "version": 3
      },
      "file_extension": ".py",
      "mimetype": "text/x-python",
      "name": "python",
      "nbconvert_exporter": "python",
      "pygments_lexer": "ipython3",
      "version": "3.8.10"
    },
    "colab": {
      "name": "DM_Lab_Assignment4_2018IMT_108.ipynb",
      "provenance": []
    }
  },
  "nbformat": 4,
  "nbformat_minor": 0
}